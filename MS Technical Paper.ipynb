{
 "cells": [
  {
   "cell_type": "markdown",
   "id": "19222f51",
   "metadata": {},
   "source": [
    "# Data Cleaning and Preprocessing for the Original Dataset"
   ]
  },
  {
   "cell_type": "markdown",
   "id": "06e346ed",
   "metadata": {},
   "source": [
    "Before conducting any sort of data analysis, we must extract the relevant data fields in the original dataset and do some data preprocessing to produce a finalized dataset. Here we're importing the original dataset with the relevant columns, and creating separate tables for each of the 16 games containing the validation error and best score values. This is done to determine the mean validation error and best score achieved for each game, which will later be used to create the final dataset."
   ]
  },
  {
   "cell_type": "code",
   "execution_count": 2,
   "id": "3ea6e2de",
   "metadata": {},
   "outputs": [
    {
     "name": "stdout",
     "output_type": "stream",
     "text": [
      "0     95500.0\n",
      "1     84500.0\n",
      "2     99000.0\n",
      "3     88000.0\n",
      "4    106500.0\n",
      "5    331000.0\n",
      "6    537500.0\n",
      "7    105500.0\n",
      "8    130500.0\n",
      "9    135000.0\n",
      "Name: BestScore, dtype: float64\n"
     ]
    }
   ],
   "source": [
    "import pandas as pd \n",
    "\n",
    "initial = pd.read_csv('/Users/AyaHourani 1/Desktop/Atari_Game_Data.csv')\n",
    "initial.head()\n",
    "dataset = initial[['Game','TrialNumber', 'SubjID', 'AverageValError', 'BestScore']]\n",
    "\n",
    "# Setting up separate tables to calculate individual performance\n",
    "\n",
    "# Setting up separate tables for each game containing validataion error and best score\n",
    "asterix_dataset = dataset.loc[dataset['Game'] == 'Asterix', ['Game', 'AverageValError', 'BestScore']]\n",
    "berzerk_dataset = dataset.loc[dataset['Game'] == 'Berzerk', ['Game', 'AverageValError', 'BestScore']]\n",
    "breakout_dataset = dataset.loc[dataset['Game'] == 'Breakout', ['Game', 'AverageValError', 'BestScore']]\n",
    "centipede_dataset = dataset.loc[dataset['Game'] == 'Centipede', ['Game', 'AverageValError', 'BestScore']]\n",
    "demonattack_dataset = dataset.loc[dataset['Game'] == 'DemonAttack', ['Game', 'AverageValError', 'BestScore']]\n",
    "enduro_dataset = dataset.loc[dataset['Game'] == 'Enduro', ['Game', 'AverageValError', 'BestScore']]\n",
    "freeway_dataset = dataset.loc[dataset['Game'] == 'Freeway', ['Game', 'AverageValError', 'BestScore']]\n",
    "frostbite_dataset = dataset.loc[dataset['Game'] == 'Frostbite', ['Game', 'AverageValError', 'BestScore']]\n",
    "hero_dataset = dataset.loc[dataset['Game'] == 'Hero', ['Game', 'AverageValError', 'BestScore']]\n",
    "mspacman_dataset = dataset.loc[dataset['Game'] == 'Mspacman', ['Game', 'AverageValError', 'BestScore']]\n",
    "namethisgame_dataset = dataset.loc[dataset['Game'] == 'NameThisGame', ['Game', 'AverageValError', 'BestScore']]\n",
    "phoenix_dataset = dataset.loc[dataset['Game'] == 'Phoenix', ['Game', 'AverageValError', 'BestScore']]\n",
    "riverraid_dataset = dataset.loc[dataset['Game'] == 'Riverraid', ['Game', 'AverageValError', 'BestScore']]\n",
    "seaquest_dataset = dataset.loc[dataset['Game'] == 'Seaquest', ['Game', 'AverageValError', 'BestScore']]\n",
    "spaceinvaders_dataset = dataset.loc[dataset['Game'] == 'SpaceInvaders', ['Game', 'AverageValError', 'BestScore']]\n",
    "venture_dataset = dataset.loc[dataset['Game'] == 'Venture', ['Game', 'AverageValError', 'BestScore']]\n",
    "\n",
    "# Creating a table with the mean values of validation error and best score for each game\n",
    "total = [asterix_dataset, berzerk_dataset, breakout_dataset, centipede_dataset, demonattack_dataset, enduro_dataset, freeway_dataset, frostbite_dataset, hero_dataset, mspacman_dataset, namethisgame_dataset, phoenix_dataset, riverraid_dataset, seaquest_dataset, spaceinvaders_dataset, venture_dataset]\n",
    "game = ['Asterix', 'Berzerk', 'Breakout', 'Centipede', 'DemonAttack', 'Enduro', 'Freeway', 'Frostbite', 'Hero', 'Mspacman', 'NameThisGame', 'Phoenix', 'Riverraid', 'Seaquest', 'SpaceInvaders', 'Venture']\n",
    "mean_average = []\n",
    "mean_best_score = []\n",
    "\n",
    "for data in total:\n",
    "    mean_average.append(round(data['AverageValError'].mean(), 4))\n",
    "    mean_best_score.append(round(data['BestScore'].mean(), 4))\n",
    "    \n",
    "dataset.head()\n",
    "print(asterix_dataset['BestScore'])"
   ]
  },
  {
   "cell_type": "markdown",
   "id": "ebde08c2",
   "metadata": {},
   "source": [
    "## Game Score Scaling"
   ]
  },
  {
   "cell_type": "markdown",
   "id": "89c469e1",
   "metadata": {},
   "source": [
    "Scores are weighed on a different scale depending on the game, so in order to accurately depict the difficulty level of the game, we must outsource the top scores achieved worldwide. Using these values, we'll then calculate the average top score for each game."
   ]
  },
  {
   "cell_type": "code",
   "execution_count": 3,
   "id": "a904a696",
   "metadata": {},
   "outputs": [],
   "source": [
    "top_asterix = [335500]\n",
    "top_berzerk = [130050, 104450, 103505, 93450, 66230, 62590, 27880, 23790, 23550]\n",
    "top_breakout = [864, 834, 825, 812, 667, 532, 511, 456, 424, 420]\n",
    "top_centipede = [198613, 163278, 137526, 125768, 115451, 112831, 99957, 99907, 97995, 89237]\n",
    "top_demonattack = [92420, 19500, 16005, 14055, 13530, 9425, 7515, 6510, 5220, 5020]\n",
    "top_enduro = [5878, 3159.2, 1936.6, 1561.6, 1152.2, 1039.9, 747, 731.3, 609.6, 595.5]\n",
    "top_freeway = [34, 32, 32, 31, 31, 31, 30]\n",
    "top_frostbite = [441510, 429370, 416560, 409070, 373710, 343240, 312510, 232360, 186470, 127570]\n",
    "top_hero = [257310, 161010, 159900, 93125, 75000, 32880]\n",
    "top_mspacman = [211480, 91850, 86350, 82256, 71000, 68330, 63060, 62690, 61150, 60390]\n",
    "top_namethisgame = [25220]\n",
    "top_phoenix = [365240, 98500, 58690, 41550, 25900, 21680, 19110, 6600]\n",
    "top_riverraid = [837340, 319310, 112700, 102230, 97140, 95530, 82900, 72350, 56120, 51530]\n",
    "top_seaquest = [381150, 298280, 242740, 189360, 160290, 159000, 155620, 138720, 112190, 106550]\n",
    "top_spaceinvaders = [111965, 108745, 88550, 35780, 24475, 21700, 19460, 12125, 11745, 10925]\n",
    "top_venture = [104400]\n",
    "\n",
    "top_scores = [top_asterix, top_berzerk, top_breakout, top_centipede, top_demonattack, top_enduro, top_freeway, top_frostbite, top_hero, top_mspacman, top_namethisgame, top_phoenix, top_riverraid, top_seaquest, top_spaceinvaders, top_venture]\n",
    "mean_top_scores = []\n",
    "\n",
    "for score in top_scores:\n",
    "    mean_top_scores.append(round(sum(score) / len(score), 4))\n"
   ]
  },
  {
   "cell_type": "markdown",
   "id": "3eeb6361",
   "metadata": {},
   "source": [
    "## Performance Scaling"
   ]
  },
  {
   "cell_type": "markdown",
   "id": "1e0bd33b",
   "metadata": {},
   "source": [
    "Here we're calculating the difficulty level of each game using the mean top scores we calculated and the given best scores from the original dataset. After this, we'll zip all of the data fields we calculated to create a finalized chart that will be used to conduct our analysis."
   ]
  },
  {
   "cell_type": "code",
   "execution_count": 4,
   "id": "e66ca2c6",
   "metadata": {},
   "outputs": [
    {
     "data": {
      "text/html": [
       "<div>\n",
       "<style scoped>\n",
       "    .dataframe tbody tr th:only-of-type {\n",
       "        vertical-align: middle;\n",
       "    }\n",
       "\n",
       "    .dataframe tbody tr th {\n",
       "        vertical-align: top;\n",
       "    }\n",
       "\n",
       "    .dataframe thead th {\n",
       "        text-align: right;\n",
       "    }\n",
       "</style>\n",
       "<table border=\"1\" class=\"dataframe\">\n",
       "  <thead>\n",
       "    <tr style=\"text-align: right;\">\n",
       "      <th></th>\n",
       "      <th>Game</th>\n",
       "      <th>Mean Validation Error</th>\n",
       "      <th>Mean Best Score</th>\n",
       "      <th>Mean Top Score</th>\n",
       "      <th>Difficulty(%)</th>\n",
       "    </tr>\n",
       "  </thead>\n",
       "  <tbody>\n",
       "    <tr>\n",
       "      <th>0</th>\n",
       "      <td>Asterix</td>\n",
       "      <td>0.4020</td>\n",
       "      <td>171300.0000</td>\n",
       "      <td>335500.0000</td>\n",
       "      <td>48.94</td>\n",
       "    </tr>\n",
       "    <tr>\n",
       "      <th>1</th>\n",
       "      <td>Berzerk</td>\n",
       "      <td>0.3780</td>\n",
       "      <td>5730.0000</td>\n",
       "      <td>70610.5556</td>\n",
       "      <td>91.89</td>\n",
       "    </tr>\n",
       "    <tr>\n",
       "      <th>2</th>\n",
       "      <td>Breakout</td>\n",
       "      <td>0.4183</td>\n",
       "      <td>435.0833</td>\n",
       "      <td>634.5000</td>\n",
       "      <td>31.43</td>\n",
       "    </tr>\n",
       "    <tr>\n",
       "      <th>3</th>\n",
       "      <td>Centipede</td>\n",
       "      <td>0.4432</td>\n",
       "      <td>66770.5455</td>\n",
       "      <td>124056.3000</td>\n",
       "      <td>46.18</td>\n",
       "    </tr>\n",
       "    <tr>\n",
       "      <th>4</th>\n",
       "      <td>DemonAttack</td>\n",
       "      <td>0.5129</td>\n",
       "      <td>6810.0000</td>\n",
       "      <td>18920.0000</td>\n",
       "      <td>64.01</td>\n",
       "    </tr>\n",
       "    <tr>\n",
       "      <th>5</th>\n",
       "      <td>Enduro</td>\n",
       "      <td>0.3336</td>\n",
       "      <td>404.5000</td>\n",
       "      <td>1741.0900</td>\n",
       "      <td>76.77</td>\n",
       "    </tr>\n",
       "    <tr>\n",
       "      <th>6</th>\n",
       "      <td>Freeway</td>\n",
       "      <td>0.4838</td>\n",
       "      <td>31.1250</td>\n",
       "      <td>31.5714</td>\n",
       "      <td>1.41</td>\n",
       "    </tr>\n",
       "    <tr>\n",
       "      <th>7</th>\n",
       "      <td>Frostbite</td>\n",
       "      <td>0.3300</td>\n",
       "      <td>25074.0000</td>\n",
       "      <td>327237.0000</td>\n",
       "      <td>92.34</td>\n",
       "    </tr>\n",
       "    <tr>\n",
       "      <th>8</th>\n",
       "      <td>Hero</td>\n",
       "      <td>0.4600</td>\n",
       "      <td>44657.5000</td>\n",
       "      <td>129870.8333</td>\n",
       "      <td>65.61</td>\n",
       "    </tr>\n",
       "    <tr>\n",
       "      <th>9</th>\n",
       "      <td>Mspacman</td>\n",
       "      <td>0.4165</td>\n",
       "      <td>32797.4118</td>\n",
       "      <td>85855.6000</td>\n",
       "      <td>61.80</td>\n",
       "    </tr>\n",
       "    <tr>\n",
       "      <th>10</th>\n",
       "      <td>NameThisGame</td>\n",
       "      <td>0.3640</td>\n",
       "      <td>7266.0000</td>\n",
       "      <td>25220.0000</td>\n",
       "      <td>71.19</td>\n",
       "    </tr>\n",
       "    <tr>\n",
       "      <th>11</th>\n",
       "      <td>Phoenix</td>\n",
       "      <td>0.4729</td>\n",
       "      <td>30041.4286</td>\n",
       "      <td>79658.7500</td>\n",
       "      <td>62.29</td>\n",
       "    </tr>\n",
       "    <tr>\n",
       "      <th>12</th>\n",
       "      <td>Riverraid</td>\n",
       "      <td>0.4023</td>\n",
       "      <td>17840.0000</td>\n",
       "      <td>182715.0000</td>\n",
       "      <td>90.24</td>\n",
       "    </tr>\n",
       "    <tr>\n",
       "      <th>13</th>\n",
       "      <td>Seaquest</td>\n",
       "      <td>0.3329</td>\n",
       "      <td>111764.2857</td>\n",
       "      <td>194390.0000</td>\n",
       "      <td>42.51</td>\n",
       "    </tr>\n",
       "    <tr>\n",
       "      <th>14</th>\n",
       "      <td>SpaceInvaders</td>\n",
       "      <td>0.4540</td>\n",
       "      <td>1791.0000</td>\n",
       "      <td>44547.0000</td>\n",
       "      <td>95.98</td>\n",
       "    </tr>\n",
       "    <tr>\n",
       "      <th>15</th>\n",
       "      <td>Venture</td>\n",
       "      <td>0.4085</td>\n",
       "      <td>8546.1538</td>\n",
       "      <td>104400.0000</td>\n",
       "      <td>91.81</td>\n",
       "    </tr>\n",
       "  </tbody>\n",
       "</table>\n",
       "</div>"
      ],
      "text/plain": [
       "             Game  Mean Validation Error  Mean Best Score  Mean Top Score  \\\n",
       "0         Asterix                 0.4020      171300.0000     335500.0000   \n",
       "1         Berzerk                 0.3780        5730.0000      70610.5556   \n",
       "2        Breakout                 0.4183         435.0833        634.5000   \n",
       "3       Centipede                 0.4432       66770.5455     124056.3000   \n",
       "4     DemonAttack                 0.5129        6810.0000      18920.0000   \n",
       "5          Enduro                 0.3336         404.5000       1741.0900   \n",
       "6         Freeway                 0.4838          31.1250         31.5714   \n",
       "7       Frostbite                 0.3300       25074.0000     327237.0000   \n",
       "8            Hero                 0.4600       44657.5000     129870.8333   \n",
       "9        Mspacman                 0.4165       32797.4118      85855.6000   \n",
       "10   NameThisGame                 0.3640        7266.0000      25220.0000   \n",
       "11        Phoenix                 0.4729       30041.4286      79658.7500   \n",
       "12      Riverraid                 0.4023       17840.0000     182715.0000   \n",
       "13       Seaquest                 0.3329      111764.2857     194390.0000   \n",
       "14  SpaceInvaders                 0.4540        1791.0000      44547.0000   \n",
       "15        Venture                 0.4085        8546.1538     104400.0000   \n",
       "\n",
       "    Difficulty(%)  \n",
       "0           48.94  \n",
       "1           91.89  \n",
       "2           31.43  \n",
       "3           46.18  \n",
       "4           64.01  \n",
       "5           76.77  \n",
       "6            1.41  \n",
       "7           92.34  \n",
       "8           65.61  \n",
       "9           61.80  \n",
       "10          71.19  \n",
       "11          62.29  \n",
       "12          90.24  \n",
       "13          42.51  \n",
       "14          95.98  \n",
       "15          91.81  "
      ]
     },
     "execution_count": 4,
     "metadata": {},
     "output_type": "execute_result"
    }
   ],
   "source": [
    "performance = []\n",
    "difficulty = []\n",
    "\n",
    "for (score, top) in zip(mean_best_score, mean_top_scores):\n",
    "    performance.append(round(((score / top)*100), 2))\n",
    "    \n",
    "for score in performance:\n",
    "    difficulty.append(100 - score)\n",
    "                                        \n",
    "data_table = pd.DataFrame(list(zip(game, mean_average, mean_best_score, mean_top_scores, difficulty)), columns=['Game', 'Mean Validation Error', 'Mean Best Score', 'Mean Top Score', 'Difficulty(%)'])\n",
    "data_table"
   ]
  },
  {
   "cell_type": "markdown",
   "id": "c2714282",
   "metadata": {},
   "source": [
    "Here we're calculating the performance % for each trial of each game. This is done to later calculate the Cumulative Distribution Function of each game."
   ]
  },
  {
   "cell_type": "code",
   "execution_count": 16,
   "id": "a1855ccc",
   "metadata": {},
   "outputs": [],
   "source": [
    "# Performance list for each game\n",
    "asterix_performance = []\n",
    "berzerk_performance = []\n",
    "breakout_performance = []\n",
    "centipede_performance = []\n",
    "demonattack_performance = []\n",
    "enduro_performance = []\n",
    "freeway_performance = []\n",
    "frostbite_performance = []\n",
    "hero_performance = []\n",
    "mspacman_performance = []\n",
    "namethisgame_performance = []\n",
    "phoenix_performance = []\n",
    "riverraid_performance = []\n",
    "seaquest_performance = []\n",
    "spaceinvaders_performance = []\n",
    "venture_performance = []\n",
    "\n",
    "# Function for calculating the performance % for each game\n",
    "def performanceCalculator(game, top_score, dataset):\n",
    "    i = range(16)\n",
    "    for score in dataset['BestScore']:\n",
    "        game.append(round(((score / top_score)*100), 2))\n",
    "        game.sort()\n",
    "        \n",
    "performanceCalculator(asterix_performance, mean_top_scores[0], asterix_dataset)\n",
    "performanceCalculator(berzerk_performance, mean_top_scores[1], berzerk_dataset)\n",
    "performanceCalculator(breakout_performance, mean_top_scores[2], breakout_dataset)\n",
    "performanceCalculator(centipede_performance, mean_top_scores[3], centipede_dataset)\n",
    "performanceCalculator(demonattack_performance, mean_top_scores[4], demonattack_dataset)\n",
    "performanceCalculator(enduro_performance, mean_top_scores[5], enduro_dataset)\n",
    "performanceCalculator(freeway_performance, mean_top_scores[6], freeway_dataset)\n",
    "performanceCalculator(frostbite_performance, mean_top_scores[7], frostbite_dataset)\n",
    "performanceCalculator(hero_performance, mean_top_scores[8], hero_dataset)\n",
    "performanceCalculator(mspacman_performance, mean_top_scores[9], mspacman_dataset)\n",
    "performanceCalculator(namethisgame_performance, mean_top_scores[10], namethisgame_dataset)\n",
    "performanceCalculator(phoenix_performance, mean_top_scores[11], phoenix_dataset)\n",
    "performanceCalculator(riverraid_performance, mean_top_scores[12], riverraid_dataset)\n",
    "performanceCalculator(seaquest_performance, mean_top_scores[13], seaquest_dataset)\n",
    "performanceCalculator(spaceinvaders_performance, mean_top_scores[14], spaceinvaders_dataset)\n",
    "performanceCalculator(venture_performance, mean_top_scores[15], venture_dataset)\n",
    "\n"
   ]
  },
  {
   "cell_type": "markdown",
   "id": "465506e0",
   "metadata": {},
   "source": [
    "## Cumulative Distribution Function"
   ]
  },
  {
   "cell_type": "markdown",
   "id": "3ad95335",
   "metadata": {},
   "source": [
    "Here we're calculating the Cumulative Distribution Function all 16 games given their individual performances. This is done to determine which games will be selected for gaze data analysis; factors considered include the number of trials and difficulty level/performance. "
   ]
  },
  {
   "cell_type": "code",
   "execution_count": 17,
   "id": "f472186f",
   "metadata": {},
   "outputs": [
    {
     "data": {
      "image/png": "[encoded data removed]",
      "text/plain": [
       "<Figure size 640x480 with 1 Axes>"
      ]
     },
     "metadata": {},
     "output_type": "display_data"
    }
   ],
   "source": [
    "import numpy as np\n",
    "from scipy import stats\n",
    "import matplotlib.pyplot as plt\n",
    "\n",
    "# Function for CDF and Plotting\n",
    "def CDF(sorted_data):\n",
    "    cdf = np.arange(1, len(sorted_data) + 1) / len(sorted_data)\n",
    "    # Plotting tht CDF\n",
    "    plt.plot(sorted_data, cdf, marker='o', linestyle='--')\n",
    "    plt.xlabel('Performance %', fontsize=10)\n",
    "    title = 'Venture (Hard)'\n",
    "    plt.title(title, fontsize=20)\n",
    "    plt.grid(True)\n",
    "    plt.show()\n",
    "    \n",
    "# Displaying each plot for each game\n",
    "CDF(venture_performance)"
   ]
  },
  {
   "cell_type": "markdown",
   "id": "f26f533e",
   "metadata": {},
   "source": [
    "## Data Distinction"
   ]
  },
  {
   "cell_type": "markdown",
   "id": "19836521",
   "metadata": {},
   "source": [
    "Here, we're highlighting the mean top score column to distinguish outsourced data from the original data."
   ]
  },
  {
   "cell_type": "code",
   "execution_count": 23,
   "id": "f3b30137",
   "metadata": {},
   "outputs": [
    {
     "data": {
      "text/html": [
       "<style type=\"text/css\">\n",
       "#T_0c340_row0_col0, #T_0c340_row0_col1, #T_0c340_row0_col2, #T_0c340_row0_col4, #T_0c340_row1_col0, #T_0c340_row1_col1, #T_0c340_row1_col2, #T_0c340_row1_col4, #T_0c340_row2_col0, #T_0c340_row2_col1, #T_0c340_row2_col2, #T_0c340_row2_col4, #T_0c340_row3_col0, #T_0c340_row3_col1, #T_0c340_row3_col2, #T_0c340_row3_col4, #T_0c340_row4_col0, #T_0c340_row4_col1, #T_0c340_row4_col2, #T_0c340_row4_col4, #T_0c340_row5_col0, #T_0c340_row5_col1, #T_0c340_row5_col2, #T_0c340_row5_col4, #T_0c340_row6_col0, #T_0c340_row6_col1, #T_0c340_row6_col2, #T_0c340_row6_col4, #T_0c340_row7_col0, #T_0c340_row7_col1, #T_0c340_row7_col2, #T_0c340_row7_col4, #T_0c340_row8_col0, #T_0c340_row8_col1, #T_0c340_row8_col2, #T_0c340_row8_col4, #T_0c340_row9_col0, #T_0c340_row9_col1, #T_0c340_row9_col2, #T_0c340_row9_col4, #T_0c340_row10_col0, #T_0c340_row10_col1, #T_0c340_row10_col2, #T_0c340_row10_col4, #T_0c340_row11_col0, #T_0c340_row11_col1, #T_0c340_row11_col2, #T_0c340_row11_col4, #T_0c340_row12_col0, #T_0c340_row12_col1, #T_0c340_row12_col2, #T_0c340_row12_col4, #T_0c340_row13_col0, #T_0c340_row13_col1, #T_0c340_row13_col2, #T_0c340_row13_col4, #T_0c340_row14_col0, #T_0c340_row14_col1, #T_0c340_row14_col2, #T_0c340_row14_col4, #T_0c340_row15_col0, #T_0c340_row15_col1, #T_0c340_row15_col2, #T_0c340_row15_col4 {\n",
       "  background-color: white;\n",
       "}\n",
       "#T_0c340_row0_col3, #T_0c340_row1_col3, #T_0c340_row2_col3, #T_0c340_row3_col3, #T_0c340_row4_col3, #T_0c340_row5_col3, #T_0c340_row6_col3, #T_0c340_row7_col3, #T_0c340_row8_col3, #T_0c340_row9_col3, #T_0c340_row10_col3, #T_0c340_row11_col3, #T_0c340_row12_col3, #T_0c340_row13_col3, #T_0c340_row14_col3, #T_0c340_row15_col3 {\n",
       "  background-color: lightblue;\n",
       "}\n",
       "</style>\n",
       "<table id=\"T_0c340\">\n",
       "  <thead>\n",
       "    <tr>\n",
       "      <th class=\"blank level0\" >&nbsp;</th>\n",
       "      <th id=\"T_0c340_level0_col0\" class=\"col_heading level0 col0\" >Game</th>\n",
       "      <th id=\"T_0c340_level0_col1\" class=\"col_heading level0 col1\" >Mean Validation Error</th>\n",
       "      <th id=\"T_0c340_level0_col2\" class=\"col_heading level0 col2\" >Mean Best Score</th>\n",
       "      <th id=\"T_0c340_level0_col3\" class=\"col_heading level0 col3\" >Mean Top Score</th>\n",
       "      <th id=\"T_0c340_level0_col4\" class=\"col_heading level0 col4\" >Difficulty(%)</th>\n",
       "    </tr>\n",
       "  </thead>\n",
       "  <tbody>\n",
       "    <tr>\n",
       "      <th id=\"T_0c340_level0_row0\" class=\"row_heading level0 row0\" >0</th>\n",
       "      <td id=\"T_0c340_row0_col0\" class=\"data row0 col0\" >Asterix</td>\n",
       "      <td id=\"T_0c340_row0_col1\" class=\"data row0 col1\" >0.402000</td>\n",
       "      <td id=\"T_0c340_row0_col2\" class=\"data row0 col2\" >171300.000000</td>\n",
       "      <td id=\"T_0c340_row0_col3\" class=\"data row0 col3\" >335500.000000</td>\n",
       "      <td id=\"T_0c340_row0_col4\" class=\"data row0 col4\" >48.940000</td>\n",
       "    </tr>\n",
       "    <tr>\n",
       "      <th id=\"T_0c340_level0_row1\" class=\"row_heading level0 row1\" >1</th>\n",
       "      <td id=\"T_0c340_row1_col0\" class=\"data row1 col0\" >Berzerk</td>\n",
       "      <td id=\"T_0c340_row1_col1\" class=\"data row1 col1\" >0.378000</td>\n",
       "      <td id=\"T_0c340_row1_col2\" class=\"data row1 col2\" >5730.000000</td>\n",
       "      <td id=\"T_0c340_row1_col3\" class=\"data row1 col3\" >70610.555600</td>\n",
       "      <td id=\"T_0c340_row1_col4\" class=\"data row1 col4\" >91.890000</td>\n",
       "    </tr>\n",
       "    <tr>\n",
       "      <th id=\"T_0c340_level0_row2\" class=\"row_heading level0 row2\" >2</th>\n",
       "      <td id=\"T_0c340_row2_col0\" class=\"data row2 col0\" >Breakout</td>\n",
       "      <td id=\"T_0c340_row2_col1\" class=\"data row2 col1\" >0.418300</td>\n",
       "      <td id=\"T_0c340_row2_col2\" class=\"data row2 col2\" >435.083300</td>\n",
       "      <td id=\"T_0c340_row2_col3\" class=\"data row2 col3\" >634.500000</td>\n",
       "      <td id=\"T_0c340_row2_col4\" class=\"data row2 col4\" >31.430000</td>\n",
       "    </tr>\n",
       "    <tr>\n",
       "      <th id=\"T_0c340_level0_row3\" class=\"row_heading level0 row3\" >3</th>\n",
       "      <td id=\"T_0c340_row3_col0\" class=\"data row3 col0\" >Centipede</td>\n",
       "      <td id=\"T_0c340_row3_col1\" class=\"data row3 col1\" >0.443200</td>\n",
       "      <td id=\"T_0c340_row3_col2\" class=\"data row3 col2\" >66770.545500</td>\n",
       "      <td id=\"T_0c340_row3_col3\" class=\"data row3 col3\" >124056.300000</td>\n",
       "      <td id=\"T_0c340_row3_col4\" class=\"data row3 col4\" >46.180000</td>\n",
       "    </tr>\n",
       "    <tr>\n",
       "      <th id=\"T_0c340_level0_row4\" class=\"row_heading level0 row4\" >4</th>\n",
       "      <td id=\"T_0c340_row4_col0\" class=\"data row4 col0\" >DemonAttack</td>\n",
       "      <td id=\"T_0c340_row4_col1\" class=\"data row4 col1\" >0.512900</td>\n",
       "      <td id=\"T_0c340_row4_col2\" class=\"data row4 col2\" >6810.000000</td>\n",
       "      <td id=\"T_0c340_row4_col3\" class=\"data row4 col3\" >18920.000000</td>\n",
       "      <td id=\"T_0c340_row4_col4\" class=\"data row4 col4\" >64.010000</td>\n",
       "    </tr>\n",
       "    <tr>\n",
       "      <th id=\"T_0c340_level0_row5\" class=\"row_heading level0 row5\" >5</th>\n",
       "      <td id=\"T_0c340_row5_col0\" class=\"data row5 col0\" >Enduro</td>\n",
       "      <td id=\"T_0c340_row5_col1\" class=\"data row5 col1\" >0.333600</td>\n",
       "      <td id=\"T_0c340_row5_col2\" class=\"data row5 col2\" >404.500000</td>\n",
       "      <td id=\"T_0c340_row5_col3\" class=\"data row5 col3\" >1741.090000</td>\n",
       "      <td id=\"T_0c340_row5_col4\" class=\"data row5 col4\" >76.770000</td>\n",
       "    </tr>\n",
       "    <tr>\n",
       "      <th id=\"T_0c340_level0_row6\" class=\"row_heading level0 row6\" >6</th>\n",
       "      <td id=\"T_0c340_row6_col0\" class=\"data row6 col0\" >Freeway</td>\n",
       "      <td id=\"T_0c340_row6_col1\" class=\"data row6 col1\" >0.483800</td>\n",
       "      <td id=\"T_0c340_row6_col2\" class=\"data row6 col2\" >31.125000</td>\n",
       "      <td id=\"T_0c340_row6_col3\" class=\"data row6 col3\" >31.571400</td>\n",
       "      <td id=\"T_0c340_row6_col4\" class=\"data row6 col4\" >1.410000</td>\n",
       "    </tr>\n",
       "    <tr>\n",
       "      <th id=\"T_0c340_level0_row7\" class=\"row_heading level0 row7\" >7</th>\n",
       "      <td id=\"T_0c340_row7_col0\" class=\"data row7 col0\" >Frostbite</td>\n",
       "      <td id=\"T_0c340_row7_col1\" class=\"data row7 col1\" >0.330000</td>\n",
       "      <td id=\"T_0c340_row7_col2\" class=\"data row7 col2\" >25074.000000</td>\n",
       "      <td id=\"T_0c340_row7_col3\" class=\"data row7 col3\" >327237.000000</td>\n",
       "      <td id=\"T_0c340_row7_col4\" class=\"data row7 col4\" >92.340000</td>\n",
       "    </tr>\n",
       "    <tr>\n",
       "      <th id=\"T_0c340_level0_row8\" class=\"row_heading level0 row8\" >8</th>\n",
       "      <td id=\"T_0c340_row8_col0\" class=\"data row8 col0\" >Hero</td>\n",
       "      <td id=\"T_0c340_row8_col1\" class=\"data row8 col1\" >0.460000</td>\n",
       "      <td id=\"T_0c340_row8_col2\" class=\"data row8 col2\" >44657.500000</td>\n",
       "      <td id=\"T_0c340_row8_col3\" class=\"data row8 col3\" >129870.833300</td>\n",
       "      <td id=\"T_0c340_row8_col4\" class=\"data row8 col4\" >65.610000</td>\n",
       "    </tr>\n",
       "    <tr>\n",
       "      <th id=\"T_0c340_level0_row9\" class=\"row_heading level0 row9\" >9</th>\n",
       "      <td id=\"T_0c340_row9_col0\" class=\"data row9 col0\" >Mspacman</td>\n",
       "      <td id=\"T_0c340_row9_col1\" class=\"data row9 col1\" >0.416500</td>\n",
       "      <td id=\"T_0c340_row9_col2\" class=\"data row9 col2\" >32797.411800</td>\n",
       "      <td id=\"T_0c340_row9_col3\" class=\"data row9 col3\" >85855.600000</td>\n",
       "      <td id=\"T_0c340_row9_col4\" class=\"data row9 col4\" >61.800000</td>\n",
       "    </tr>\n",
       "    <tr>\n",
       "      <th id=\"T_0c340_level0_row10\" class=\"row_heading level0 row10\" >10</th>\n",
       "      <td id=\"T_0c340_row10_col0\" class=\"data row10 col0\" >NameThisGame</td>\n",
       "      <td id=\"T_0c340_row10_col1\" class=\"data row10 col1\" >0.364000</td>\n",
       "      <td id=\"T_0c340_row10_col2\" class=\"data row10 col2\" >7266.000000</td>\n",
       "      <td id=\"T_0c340_row10_col3\" class=\"data row10 col3\" >25220.000000</td>\n",
       "      <td id=\"T_0c340_row10_col4\" class=\"data row10 col4\" >71.190000</td>\n",
       "    </tr>\n",
       "    <tr>\n",
       "      <th id=\"T_0c340_level0_row11\" class=\"row_heading level0 row11\" >11</th>\n",
       "      <td id=\"T_0c340_row11_col0\" class=\"data row11 col0\" >Phoenix</td>\n",
       "      <td id=\"T_0c340_row11_col1\" class=\"data row11 col1\" >0.472900</td>\n",
       "      <td id=\"T_0c340_row11_col2\" class=\"data row11 col2\" >30041.428600</td>\n",
       "      <td id=\"T_0c340_row11_col3\" class=\"data row11 col3\" >79658.750000</td>\n",
       "      <td id=\"T_0c340_row11_col4\" class=\"data row11 col4\" >62.290000</td>\n",
       "    </tr>\n",
       "    <tr>\n",
       "      <th id=\"T_0c340_level0_row12\" class=\"row_heading level0 row12\" >12</th>\n",
       "      <td id=\"T_0c340_row12_col0\" class=\"data row12 col0\" >Riverraid</td>\n",
       "      <td id=\"T_0c340_row12_col1\" class=\"data row12 col1\" >0.402300</td>\n",
       "      <td id=\"T_0c340_row12_col2\" class=\"data row12 col2\" >17840.000000</td>\n",
       "      <td id=\"T_0c340_row12_col3\" class=\"data row12 col3\" >182715.000000</td>\n",
       "      <td id=\"T_0c340_row12_col4\" class=\"data row12 col4\" >90.240000</td>\n",
       "    </tr>\n",
       "    <tr>\n",
       "      <th id=\"T_0c340_level0_row13\" class=\"row_heading level0 row13\" >13</th>\n",
       "      <td id=\"T_0c340_row13_col0\" class=\"data row13 col0\" >Seaquest</td>\n",
       "      <td id=\"T_0c340_row13_col1\" class=\"data row13 col1\" >0.332900</td>\n",
       "      <td id=\"T_0c340_row13_col2\" class=\"data row13 col2\" >111764.285700</td>\n",
       "      <td id=\"T_0c340_row13_col3\" class=\"data row13 col3\" >194390.000000</td>\n",
       "      <td id=\"T_0c340_row13_col4\" class=\"data row13 col4\" >42.510000</td>\n",
       "    </tr>\n",
       "    <tr>\n",
       "      <th id=\"T_0c340_level0_row14\" class=\"row_heading level0 row14\" >14</th>\n",
       "      <td id=\"T_0c340_row14_col0\" class=\"data row14 col0\" >SpaceInvaders</td>\n",
       "      <td id=\"T_0c340_row14_col1\" class=\"data row14 col1\" >0.454000</td>\n",
       "      <td id=\"T_0c340_row14_col2\" class=\"data row14 col2\" >1791.000000</td>\n",
       "      <td id=\"T_0c340_row14_col3\" class=\"data row14 col3\" >44547.000000</td>\n",
       "      <td id=\"T_0c340_row14_col4\" class=\"data row14 col4\" >95.980000</td>\n",
       "    </tr>\n",
       "    <tr>\n",
       "      <th id=\"T_0c340_level0_row15\" class=\"row_heading level0 row15\" >15</th>\n",
       "      <td id=\"T_0c340_row15_col0\" class=\"data row15 col0\" >Venture</td>\n",
       "      <td id=\"T_0c340_row15_col1\" class=\"data row15 col1\" >0.408500</td>\n",
       "      <td id=\"T_0c340_row15_col2\" class=\"data row15 col2\" >8546.153800</td>\n",
       "      <td id=\"T_0c340_row15_col3\" class=\"data row15 col3\" >104400.000000</td>\n",
       "      <td id=\"T_0c340_row15_col4\" class=\"data row15 col4\" >91.810000</td>\n",
       "    </tr>\n",
       "  </tbody>\n",
       "</table>\n"
      ],
      "text/plain": [
       "<pandas.io.formats.style.Styler at 0x7fbdfbdb86d0>"
      ]
     },
     "metadata": {},
     "output_type": "display_data"
    }
   ],
   "source": [
    "def highlight_cols(x):   \n",
    "    # copy data table to new \n",
    "    data_table = x.copy() \n",
    "    # select all values to white color \n",
    "    data_table.loc[:, :] = 'background-color: white'\n",
    "    # overwrite values blue color \n",
    "    data_table['Mean Top Score'] = 'background-color: lightblue'\n",
    "    # return color data table \n",
    "    return data_table  \n",
    " \n",
    "display(data_table.style.apply(highlight_cols, axis = None)) "
   ]
  },
  {
   "cell_type": "markdown",
   "id": "a94146bd",
   "metadata": {},
   "source": [
    "# Data Cleaning and Preprocessing for the Gaze Data"
   ]
  },
  {
   "cell_type": "markdown",
   "id": "24dc3f32",
   "metadata": {},
   "source": [
    "In this section, we're cleaning/preprocessing the gaze data for the 6 games that were selected for analysis. Each game chosen has a minimum of 8 trials, as lower trials would produce less accurate results. To determine which trials to include from each game, the top and bottom 2 trials in terms of performance were selected, resulting in a total of 4 trials for each game. We labelled each game as \"easy\", \"medium\", and \"hard\" using the difficulty level percentages. "
   ]
  },
  {
   "cell_type": "code",
   "execution_count": 2,
   "id": "8e5144ea",
   "metadata": {},
   "outputs": [],
   "source": [
    "# Gaze positions for all trials\n",
    "freeway_top79 = []\n",
    "freeway_top59 = []\n",
    "freeway_worst55 = []\n",
    "freeway_worst72 = []\n",
    "breakout_top205 = []\n",
    "breakout_top218 = []\n",
    "breakout_worst58 = []\n",
    "breakout_worst153 = []\n",
    "seaquest_top248 = []\n",
    "seaquest_top241 = []\n",
    "seaquest_worst135 = []\n",
    "seaquest_worst87 = []\n",
    "centipede_top259 = []\n",
    "centipede_top254 = []\n",
    "centipede_worst143 = []\n",
    "centipede_worst69 = []\n",
    "riverraid_top121 = []\n",
    "riverraid_top102 = []\n",
    "riverraid_worst141 = []\n",
    "riverraid_worst129 = []\n",
    "venture_top111 = []\n",
    "venture_top65 = []\n",
    "venture_worst154 = []\n",
    "venture_worst133 = []"
   ]
  },
  {
   "cell_type": "markdown",
   "id": "1bda7e89",
   "metadata": {},
   "source": [
    "## Gaze Position Extraction and Reformatting"
   ]
  },
  {
   "cell_type": "markdown",
   "id": "b0af9de6",
   "metadata": {},
   "source": [
    "Here, we're extracting the gaze positions for each game and structuring it. The original gaze data is just a long list of x,y coordinate pairs, starting after the sixth value. So, we must only extract values after the sixth value, and pair the coordinates together.  "
   ]
  },
  {
   "cell_type": "code",
   "execution_count": 3,
   "id": "f4434fa8",
   "metadata": {},
   "outputs": [],
   "source": [
    "# This block is used to extract the gaze positions for all 6 games (24 total trials)\n",
    "\n",
    "def extractingGaze(game_trial, game):    \n",
    "    character = '\\n'\n",
    "    gaze_positions = []\n",
    "    modified_gaze_positions = []\n",
    "\n",
    "    # Extracting gaze positions\n",
    "    with open(f'/Users/AyaHourani 1/Desktop/Trials/{game}.txt', 'r') as file:\n",
    "        for line in file.readlines():\n",
    "            values = line.split(',')\n",
    "            # Gaze values start after the sixth value\n",
    "            gaze_values = values[6:]\n",
    "            for i in range(0, len(gaze_values)-1, 2):\n",
    "                gaze_positions.append((gaze_values[i], gaze_values[i+1]))\n",
    "\n",
    "    # Function for removing '\\n' \n",
    "    for pair in gaze_positions:\n",
    "        for coordinate in pair:\n",
    "            if character in coordinate:\n",
    "                new_coordinate = coordinate.replace(character, '')\n",
    "                modified_gaze_positions.append(new_coordinate)\n",
    "            else:\n",
    "                modified_gaze_positions.append(coordinate)\n",
    "\n",
    "    # Pairing modified coordinates to create final gaze positions\n",
    "    for i in range(0, len(modified_gaze_positions)-1, 2):\n",
    "        game_trial.append((float(modified_gaze_positions[i]), float(modified_gaze_positions[i+1])))\n"
   ]
  },
  {
   "cell_type": "code",
   "execution_count": 4,
   "id": "871788db",
   "metadata": {},
   "outputs": [],
   "source": [
    "# Applying function to all trials \n",
    "extractingGaze(freeway_top79, 'freeway_top79')\n",
    "extractingGaze(freeway_top59, 'freeway_top59')\n",
    "extractingGaze(freeway_worst55, 'freeway_worst55')\n",
    "extractingGaze(freeway_worst72, 'freeway_worst72')\n",
    "extractingGaze(breakout_top205, 'breakout_top205')\n",
    "extractingGaze(breakout_top218, 'breakout_top218')\n",
    "extractingGaze(breakout_worst58, 'breakout_worst58')\n",
    "extractingGaze(breakout_worst153, 'breakout_worst153')\n",
    "extractingGaze(seaquest_top248, 'seaquest_top248')\n",
    "extractingGaze(seaquest_top241, 'seaquest_top241')\n",
    "extractingGaze(seaquest_worst135, 'seaquest_worst135')\n",
    "extractingGaze(seaquest_worst87, 'seaquest_worst87')\n",
    "extractingGaze(centipede_top259, 'centipede_top259')\n",
    "extractingGaze(centipede_top254, 'centipede_top254')\n",
    "extractingGaze(centipede_worst143, 'centipede_worst143')\n",
    "extractingGaze(centipede_worst69, 'centipede_worst69')\n",
    "extractingGaze(riverraid_top121, 'riverraid_top121')\n",
    "extractingGaze(riverraid_top102, 'riverraid_top102')\n",
    "extractingGaze(riverraid_worst141, 'riverraid_worst141')\n",
    "extractingGaze(riverraid_worst129, 'riverraid_worst129')\n",
    "extractingGaze(venture_top111, 'venture_top111')\n",
    "extractingGaze(venture_top65, 'venture_top65')\n",
    "extractingGaze(venture_worst154, 'venture_worst154')\n",
    "extractingGaze(venture_worst133, 'venture_worst133')"
   ]
  },
  {
   "cell_type": "markdown",
   "id": "021ffed9",
   "metadata": {},
   "source": [
    "Here, we're combining the good(top) and bad(bottom) trials into one list for each game, totalling 2 lists per game. We're then creating a \"good\" and \"bad\" label for each game, which will be useful for when we apply the Gaussian Mixture Model to the data."
   ]
  },
  {
   "cell_type": "code",
   "execution_count": 5,
   "id": "4275b2ad",
   "metadata": {},
   "outputs": [],
   "source": [
    "# Combining the good and bad trials into one list for each game\n",
    "freeway_good = []\n",
    "freeway_bad = []\n",
    "freeway_good.extend(freeway_top79)\n",
    "freeway_good.extend(freeway_top59)\n",
    "freeway_bad.extend(freeway_worst55)\n",
    "freeway_bad.extend(freeway_worst72)\n",
    "\n",
    "breakout_good = []\n",
    "breakout_bad = []\n",
    "breakout_good.extend(breakout_top205)\n",
    "breakout_good.extend(breakout_top218)\n",
    "breakout_bad.extend(breakout_worst58)\n",
    "breakout_bad.extend(breakout_worst153)\n",
    "\n",
    "seaquest_good = []\n",
    "seaquest_bad = []\n",
    "seaquest_good.extend(seaquest_top248)\n",
    "seaquest_good.extend(seaquest_top241)\n",
    "seaquest_bad.extend(seaquest_worst135)\n",
    "seaquest_bad.extend(seaquest_worst87)\n",
    "\n",
    "centipede_good = []\n",
    "centipede_bad = []\n",
    "centipede_good.extend(centipede_top259)\n",
    "centipede_good.extend(centipede_top254)\n",
    "centipede_bad.extend(centipede_worst143)\n",
    "centipede_bad.extend(centipede_worst69)\n",
    "\n",
    "riverraid_good =[]\n",
    "riverraid_bad = []\n",
    "riverraid_good.extend(riverraid_top121)\n",
    "riverraid_good.extend(riverraid_top102)\n",
    "riverraid_bad.extend(riverraid_worst141)\n",
    "riverraid_bad.extend(riverraid_worst129)\n",
    "\n",
    "venture_good = []\n",
    "venture_bad = []\n",
    "venture_good.extend(venture_top111)\n",
    "venture_good.extend(venture_top65)\n",
    "venture_bad.extend(venture_worst154)\n",
    "venture_bad.extend(venture_worst133)"
   ]
  },
  {
   "cell_type": "markdown",
   "id": "9adf9a85",
   "metadata": {},
   "source": [
    "## Finalizing the Lists for each Game "
   ]
  },
  {
   "cell_type": "code",
   "execution_count": 6,
   "id": "6d97b035",
   "metadata": {},
   "outputs": [],
   "source": [
    "# Final lists of good/bad trials for function\n",
    "final_freeway_good = []\n",
    "final_freeway_bad = []\n",
    "final_breakout_good = []\n",
    "final_breakout_bad = []\n",
    "final_seaquest_good = []\n",
    "final_seaquest_bad = []\n",
    "final_centipede_good = []\n",
    "final_centipede_bad = []\n",
    "final_riverraid_good = []\n",
    "final_riverraid_bad = []\n",
    "final_venture_good = []\n",
    "final_venture_bad = []"
   ]
  },
  {
   "cell_type": "code",
   "execution_count": 7,
   "id": "a712e0f4",
   "metadata": {},
   "outputs": [],
   "source": [
    "# Labelling the data points as good/bad for each game\n",
    "\n",
    "def goodLabel(game, final_list):\n",
    "    for data in game:\n",
    "        data1 = list(data)\n",
    "        data1.append('good')\n",
    "        result = tuple(data1)\n",
    "        data = result\n",
    "        final_list.append(data)\n",
    "        \n",
    "def badLabel(game, final_list):\n",
    "    for data in game:\n",
    "        data1 = list(data)\n",
    "        data1.append('bad')\n",
    "        result = tuple(data1)\n",
    "        data = result\n",
    "        final_list.append(data)"
   ]
  },
  {
   "cell_type": "code",
   "execution_count": 8,
   "id": "83d627b6",
   "metadata": {},
   "outputs": [],
   "source": [
    "# Final good lists\n",
    "goodLabel(freeway_good, final_freeway_good)\n",
    "goodLabel(breakout_good, final_breakout_good)\n",
    "goodLabel(seaquest_good, final_seaquest_good)\n",
    "goodLabel(centipede_good, final_centipede_good)\n",
    "goodLabel(riverraid_good, final_riverraid_good)\n",
    "goodLabel(venture_good, final_venture_good)\n",
    "# Final bad lists\n",
    "badLabel(freeway_bad, final_freeway_bad)\n",
    "badLabel(breakout_bad, final_breakout_bad)\n",
    "badLabel(seaquest_bad, final_seaquest_bad)\n",
    "badLabel(centipede_bad, final_centipede_bad)\n",
    "badLabel(riverraid_bad, final_riverraid_bad)\n",
    "badLabel(venture_bad, final_venture_bad)\n"
   ]
  },
  {
   "cell_type": "code",
   "execution_count": 9,
   "id": "c43a5347",
   "metadata": {},
   "outputs": [],
   "source": [
    "# Final lists, combining the good and bad lists to create a final list for each game.\n",
    "freeway_gaze = final_freeway_good + final_freeway_bad\n",
    "breakout_gaze = final_breakout_good + final_breakout_bad\n",
    "seaquest_gaze = final_seaquest_good + final_seaquest_bad\n",
    "centipede_gaze = final_centipede_good + final_centipede_bad\n",
    "riverraid_gaze = final_riverraid_good + final_riverraid_bad\n",
    "venture_gaze = final_venture_good + final_venture_bad"
   ]
  },
  {
   "cell_type": "code",
   "execution_count": 10,
   "id": "1144ad68",
   "metadata": {},
   "outputs": [
    {
     "name": "stdout",
     "output_type": "stream",
     "text": [
      "3426643\n"
     ]
    }
   ],
   "source": [
    "print(len(venture_gaze))"
   ]
  },
  {
   "cell_type": "markdown",
   "id": "65116eae",
   "metadata": {},
   "source": [
    "# Data Analysis Using Machine Learning (Gaussian Mixture Model)"
   ]
  },
  {
   "cell_type": "markdown",
   "id": "6cad215b",
   "metadata": {},
   "source": [
    "## Initial GMM Plot"
   ]
  },
  {
   "cell_type": "markdown",
   "id": "915c6a64",
   "metadata": {},
   "source": [
    "Here, we're generating a general plot of the GMM using the entire dataset for a game."
   ]
  },
  {
   "cell_type": "code",
   "execution_count": 35,
   "id": "1ee4ee36",
   "metadata": {},
   "outputs": [
    {
     "data": {
      "image/png": "[encoded data removed]",
      "text/plain": [
       "<Figure size 640x480 with 1 Axes>"
      ]
     },
     "metadata": {},
     "output_type": "display_data"
    }
   ],
   "source": [
    "# General Plot\n",
    "import matplotlib.pyplot as plt\n",
    "import numpy as np\n",
    "from sklearn.mixture import GaussianMixture\n",
    "\n",
    "# Separate coordinates and labels\n",
    "points = np.array([(point[0], point[1]) for point in breakout_gaze])\n",
    "labels = [point[2] for point in breakout_gaze]\n",
    "    \n",
    "# Filter pairs labeled 'bad'\n",
    "bad_pairs = [point for point in breakout_gaze if point[2] == 'bad']\n",
    "\n",
    "# Filter pairs labeled 'good'\n",
    "good_pairs = [point for point in sampled_breakout if point[2] == 'good']\n",
    "\n",
    "# Separate 'bad' coordinates and labels\n",
    "bad_points = np.array([(point[0], point[1]) for point in bad_pairs])\n",
    "bad_labels = [point[2] for point in bad_pairs]\n",
    "\n",
    "# Separate 'good' coordinates and labels\n",
    "good_points = np.array([(point[0], point[1]) for point in good_pairs])\n",
    "good_labels = [point[2] for point in good_pairs]\n",
    "\n",
    "# Fit a Gaussian Mixture Model\n",
    "gmm = GaussianMixture(n_components=2)  # Assuming 2 components for this example\n",
    "gmm.fit(points)\n",
    "\n",
    "# Predict labels using the GMM\n",
    "predicted_labels = gmm.predict(points)\n",
    "\n",
    "# Plot the data points\n",
    "plt.scatter(points[:, 0], points[:, 1], c=predicted_labels, cmap='viridis', label='Predicted Labels')\n",
    "   \n",
    "# Plot 'bad' data points with a different color or marker\n",
    "plt.scatter(bad_points[:, 0], bad_points[:, 1], c='red', label='Bad Trials')\n",
    "\n",
    "# Plot 'good' data points with a different color or marker\n",
    "plt.scatter(good_points[:, 0], good_points[:, 1], c='purple', label='Good Trials')\n",
    "\n",
    "# Plot the GMM ellipses\n",
    "for i in range(len(gmm.means_)):\n",
    "    mean = gmm.means_[i]\n",
    "    cov = gmm.covariances_[i]\n",
    "    v, w = np.linalg.eigh(cov)\n",
    "    v = 2.0 * np.sqrt(2.0) * np.sqrt(v)\n",
    "    u = w[0] / np.linalg.norm(w[0])\n",
    "    angle = np.arctan(u[1] / u[0])\n",
    "    angle = 180.0 * angle / np.pi\n",
    "    ell = plt.matplotlib.patches.Ellipse(mean, v[0], v[1], angle=180 + angle, color='blue', alpha=0.3)\n",
    "    plt.gca().add_patch(ell)\n",
    "\n",
    "# Set plot labels and legend\n",
    "plt.xlabel('X')\n",
    "plt.ylabel('Y')\n",
    "plt.title('Breakout GMM')\n",
    "plt.legend()\n",
    "\n",
    "# Show the plot\n",
    "plt.show()\n"
   ]
  },
  {
   "cell_type": "markdown",
   "id": "56412617",
   "metadata": {},
   "source": [
    "## GMM Plots Using Sampled Subsets"
   ]
  },
  {
   "cell_type": "markdown",
   "id": "81dbaf96",
   "metadata": {},
   "source": [
    "In order to produce an accurate analysis, we must select subsets of the original dataset; this is due to the original dataset being far too large to observe any pattern in the GMM. Subsets of the datasets were selected using random sampling. We're also going to calculate the silhouette scores of 10 randomly sampled subsets each game to study the strength of the clusters formed in the GMM."
   ]
  },
  {
   "cell_type": "code",
   "execution_count": 191,
   "id": "358f0adf",
   "metadata": {},
   "outputs": [],
   "source": [
    "# Downsampling datasets\n",
    "import random\n",
    "\n",
    "sampled_freeway = random.sample(freeway_gaze, 384)\n",
    "sampled_breakout = random.sample(breakout_gaze, 384)\n",
    "sampled_seaquest = random.sample(seaquest_gaze, 384)\n",
    "sampled_centipede = random.sample(centipede_gaze, 384)\n",
    "sampled_riverraid = random.sample(riverraid_gaze, 384)\n",
    "sampled_venture = random.sample(venture_gaze, 384)"
   ]
  },
  {
   "cell_type": "code",
   "execution_count": 11,
   "id": "6eb5be2c",
   "metadata": {},
   "outputs": [],
   "source": [
    "# Silhouette score lists to average\n",
    "freeway_silhouette = []\n",
    "breakout_silhouette = []\n",
    "seaquest_silhouette = []\n",
    "centipede_silhouette = []\n",
    "riverraid_silhouette = []\n",
    "venture_silhouette = []"
   ]
  },
  {
   "cell_type": "code",
   "execution_count": 192,
   "id": "aa2d24dc",
   "metadata": {
    "scrolled": true
   },
   "outputs": [
    {
     "data": {
      "image/png": "[encoded data removed]",
      "text/plain": [
       "<Figure size 640x480 with 1 Axes>"
      ]
     },
     "metadata": {},
     "output_type": "display_data"
    },
    {
     "name": "stdout",
     "output_type": "stream",
     "text": [
      "0.3675111777046756\n"
     ]
    }
   ],
   "source": [
    "# GMM using downsampled data\n",
    "import matplotlib.pyplot as plt\n",
    "import numpy as np\n",
    "from sklearn.mixture import GaussianMixture\n",
    "from sklearn.metrics import silhouette_score \n",
    "\n",
    "# Separate coordinates and labels\n",
    "points = np.array([(point[0], point[1]) for point in sampled_venture])\n",
    "labels = [point[2] for point in sampled_venture]\n",
    "    \n",
    "# Filter pairs labeled 'bad'\n",
    "bad_pairs = [point for point in sampled_venture if point[2] == 'bad']\n",
    "\n",
    "# Filter pairs labeled 'good'\n",
    "good_pairs = [point for point in sampled_venture if point[2] == 'good']\n",
    "\n",
    "# Separate 'bad' coordinates and labels\n",
    "bad_points = np.array([(point[0], point[1]) for point in bad_pairs])\n",
    "bad_labels = [point[2] for point in bad_pairs]\n",
    "\n",
    "# Separate 'good' coordinates and labels\n",
    "good_points = np.array([(point[0], point[1]) for point in good_pairs])\n",
    "good_labels = [point[2] for point in good_pairs]\n",
    "   \n",
    "# Fit a Gaussian Mixture Model\n",
    "gmm = GaussianMixture(n_components=2)  # Assuming 2 components for this example\n",
    "gmm.fit(points)\n",
    "\n",
    "# Predict labels using the GMM\n",
    "predicted_labels = gmm.predict(points)\n",
    "\n",
    "# Plot the data points\n",
    "#plt.scatter(points[:, 0], points[:, 1], c=predicted_labels, cmap='viridis', label='Predicted Labels')\n",
    "   \n",
    "# Plot 'bad' data points with a different color or marker\n",
    "plt.scatter(bad_points[:, 0], bad_points[:, 1], c='red', label='Bad Trials')\n",
    "\n",
    "# Plot 'good' data points with a different color or marker\n",
    "plt.scatter(good_points[:, 0], good_points[:, 1], c='purple', label='Good Trials')\n",
    "\n",
    "# Plot the GMM ellipses\n",
    "for i in range(len(gmm.means_)):\n",
    "    mean = gmm.means_[i]\n",
    "    cov = gmm.covariances_[i]\n",
    "    v, w = np.linalg.eigh(cov)\n",
    "    v = 2.0 * np.sqrt(2.0) * np.sqrt(v)\n",
    "    u = w[0] / np.linalg.norm(w[0])\n",
    "    angle = np.arctan(u[1] / u[0])\n",
    "    angle = 180.0 * angle / np.pi\n",
    "    ell = plt.matplotlib.patches.Ellipse(mean, v[0], v[1], angle=180 + angle, color='blue', alpha=0.3)\n",
    "    plt.gca().add_patch(ell)\n",
    "\n",
    "# Set plot labels and legend\n",
    "plt.xlabel('X')\n",
    "plt.ylabel('Y')\n",
    "plt.title('Venture Subset GMM')\n",
    "plt.legend()\n",
    "\n",
    "# Show the plot\n",
    "plt.show()\n",
    "\n",
    "# Calculating silhouette score\n",
    "silhouette_avg = silhouette_score(points, predicted_labels)\n",
    "venture_silhouette.append(silhouette_avg)\n",
    "print(silhouette_avg)"
   ]
  },
  {
   "cell_type": "code",
   "execution_count": 193,
   "id": "dcc826ed",
   "metadata": {},
   "outputs": [
    {
     "name": "stdout",
     "output_type": "stream",
     "text": [
      "10\n"
     ]
    }
   ],
   "source": [
    "print(len(venture_silhouette))"
   ]
  },
  {
   "cell_type": "markdown",
   "id": "884bd375",
   "metadata": {},
   "source": [
    "## Silhouette Scores for Each Game"
   ]
  },
  {
   "cell_type": "code",
   "execution_count": 200,
   "id": "c778b780",
   "metadata": {},
   "outputs": [],
   "source": [
    "# Calculating the average of the silhouette scores for each game\n",
    "import statistics\n",
    "\n",
    "freeway_average = statistics.mean(freeway_silhouette)\n",
    "breakout_average = statistics.mean(breakout_silhouette)\n",
    "seaquest_average = statistics.mean(seaquest_silhouette)\n",
    "centipede_average = statistics.mean(centipede_silhouette)\n",
    "riverraid_average = statistics.mean(riverraid_silhouette)\n",
    "venture_average = statistics.mean(venture_silhouette)"
   ]
  },
  {
   "cell_type": "markdown",
   "id": "a13aa013",
   "metadata": {},
   "source": [
    "## Boxplot of Silhouette Scores"
   ]
  },
  {
   "cell_type": "markdown",
   "id": "61b859d4",
   "metadata": {},
   "source": [
    "Here, we're generating a box plot to show the distribution of the silhouette scores for each game to compare."
   ]
  },
  {
   "cell_type": "code",
   "execution_count": 203,
   "id": "244ce1e8",
   "metadata": {},
   "outputs": [
    {
     "data": {
      "image/png": "[encoded data removed]",
      "text/plain": [
       "<Figure size 640x480 with 1 Axes>"
      ]
     },
     "metadata": {},
     "output_type": "display_data"
    }
   ],
   "source": [
    "# Box plot\n",
    "import matplotlib.pyplot as plt\n",
    "import numpy as np\n",
    "\n",
    "# Create a list of data to be plotted\n",
    "data_to_plot = [freeway_silhouette, breakout_silhouette, seaquest_silhouette,\n",
    "                centipede_silhouette, riverraid_silhouette, venture_silhouette]\n",
    "\n",
    "# Create a box plot\n",
    "plt.boxplot(data_to_plot)\n",
    "\n",
    "# Add labels to the plot\n",
    "plt.title('Silhouette Scores')\n",
    "plt.xticks([1, 2, 3, 4, 5, 6], ['Freeway', 'Breakout', 'Seaquest',\n",
    "                                'Centipede', 'Riverraid', 'Venture'])\n",
    "plt.ylabel('Values')\n",
    "\n",
    "# Show the plot\n",
    "plt.show()\n"
   ]
  }
 ],
 "metadata": {
  "kernelspec": {
   "display_name": "Python 3 (ipykernel)",
   "language": "python",
   "name": "python3"
  },
  "language_info": {
   "codemirror_mode": {
    "name": "ipython",
    "version": 3
   },
   "file_extension": ".py",
   "mimetype": "text/x-python",
   "name": "python",
   "nbconvert_exporter": "python",
   "pygments_lexer": "ipython3",
   "version": "3.8.8"
  }
 },
 "nbformat": 4,
 "nbformat_minor": 5
}
